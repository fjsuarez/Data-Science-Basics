{
 "cells": [
  {
   "cell_type": "markdown",
   "metadata": {},
   "source": [
    "### Calculating information gain on a dataset\n",
    "\n",
    "Information gain is the change in entropy. So first, let us define entropy as:\n",
    "\n",
    "$$\n",
    "Entropy = -p_1\\log_2(p_1) -p_2\\log_2(p_2) -\\ ...\\ -p_n\\log_2(p_n) = - \\sum_{i=1}^n p_i\\log_2(p_i)\n",
    "$$\n",
    "\n",
    "Now, information gain is given by:\n",
    "\n",
    "$$\n",
    "InformationGain = Entropy(parent) - (\\tfrac{m}{m+n}Entropy(Child1) + \\tfrac{n}{m+n}Entropy(Child2))\n",
    "$$\n",
    "\n",
    "We can write a function that calculates the entropy of a node with 2 categories:"
   ]
  },
  {
   "cell_type": "code",
   "execution_count": 7,
   "metadata": {},
   "outputs": [
    {
     "name": "stdout",
     "output_type": "stream",
     "text": [
      "0.112607355167\n"
     ]
    }
   ],
   "source": [
    "import numpy as np\n",
    "\n",
    "def two_group_ent(first, tot): \n",
    "    return -(first/tot*np.log2(first/tot) + ((tot-first)/tot)*np.log2((tot-first)/tot))\n",
    "\n",
    "tot_ent = two_group_ent(10, 24)\n",
    "g17_ent = 15/24*two_group_ent(11,15)+9/24*two_group_ent(6,9)\n",
    "\n",
    "answer = tot_ent - g17_ent\n",
    "\n",
    "print(answer)"
   ]
  },
  {
   "cell_type": "markdown",
   "metadata": {},
   "source": [
    "### Using `sklearn` to build Decision Trees\n",
    "\n",
    "TODO: Learn to plot decision tree boundaries\n",
    "\n",
    "http://scikit-learn.org/stable/auto_examples/ensemble/plot_voting_decision_regions.html#sphx-glr-auto-examples-ensemble-plot-voting-decision-regions-py"
   ]
  },
  {
   "cell_type": "code",
   "execution_count": 14,
   "metadata": {},
   "outputs": [
    {
     "name": "stdout",
     "output_type": "stream",
     "text": [
      "1.0\n"
     ]
    }
   ],
   "source": [
    "# Import statements \n",
    "from sklearn.tree import DecisionTreeClassifier\n",
    "from sklearn.metrics import accuracy_score\n",
    "import pandas as pd\n",
    "import numpy as np\n",
    "\n",
    "# Read the data.\n",
    "data = np.asarray(pd.read_csv('data_decisiontrees.csv', header=None))\n",
    "# Assign the features to the variable X, and the labels to the variable y. \n",
    "X = data[:,0:2]\n",
    "y = data[:,2]\n",
    "\n",
    "# TODO: Create the decision tree model and assign it to the variable model.\n",
    "# You won't need to, but if you'd like, play with hyperparameters such\n",
    "# as max_depth and min_samples_leaf and see what they do to the decision\n",
    "# boundary.\n",
    "model = DecisionTreeClassifier(max_depth=11, min_samples_leaf=2)\n",
    "\n",
    "# TODO: Fit the model.\n",
    "model.fit(X,y)\n",
    "\n",
    "# TODO: Make predictions. Store them in the variable y_pred.\n",
    "y_pred = model.predict(X)\n",
    "\n",
    "# TODO: Calculate the accuracy and assign it to the variable acc.\n",
    "acc = accuracy_score(y,y_pred)\n",
    "\n",
    "print(acc)"
   ]
  }
 ],
 "metadata": {
  "kernelspec": {
   "display_name": "Python 3",
   "language": "python",
   "name": "python3"
  },
  "language_info": {
   "codemirror_mode": {
    "name": "ipython",
    "version": 3
   },
   "file_extension": ".py",
   "mimetype": "text/x-python",
   "name": "python",
   "nbconvert_exporter": "python",
   "pygments_lexer": "ipython3",
   "version": "3.6.3"
  }
 },
 "nbformat": 4,
 "nbformat_minor": 2
}
