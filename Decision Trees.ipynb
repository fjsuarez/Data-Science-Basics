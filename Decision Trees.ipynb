{
 "cells": [
  {
   "cell_type": "markdown",
   "metadata": {},
   "source": [
    "### Calculating information gain on a dataset\n",
    "\n",
    "Information gain is the change in entropy. So first, let us define entropy as:\n",
    "\n",
    "$$\n",
    "entropy = -p_1\\log_2(p_1) -p_2\\log_2(p_2) -\\ ...\\ -p_n\\log_2(p_n) = - \\sum_{i=1}^n p_i\\log_2(p_i)\n",
    "$$\n",
    "\n",
    "Now, information gain is given by:\n",
    "\n",
    "$$\n",
    "Information\\ gain = Entropy(parent) - (\\frac{m}{m+n}Entropy(Child1) + \\frac{n}{m+n}Entropy(Child2))\n",
    "$$\n",
    "\n",
    "We can write a function that calculates the entropy of a node with 2 categories:"
   ]
  },
  {
   "cell_type": "code",
   "execution_count": 7,
   "metadata": {},
   "outputs": [
    {
     "name": "stdout",
     "output_type": "stream",
     "text": [
      "0.112607355167\n"
     ]
    }
   ],
   "source": [
    "import numpy as np\n",
    "\n",
    "def two_group_ent(first, tot): \n",
    "    return -(first/tot*np.log2(first/tot) + ((tot-first)/tot)*np.log2((tot-first)/tot))\n",
    "\n",
    "tot_ent = two_group_ent(10, 24)\n",
    "g17_ent = 15/24*two_group_ent(11,15)+9/24*two_group_ent(6,9)\n",
    "\n",
    "answer = tot_ent - g17_ent\n",
    "\n",
    "print(answer)"
   ]
  }
 ],
 "metadata": {
  "kernelspec": {
   "display_name": "Python 3",
   "language": "python",
   "name": "python3"
  },
  "language_info": {
   "codemirror_mode": {
    "name": "ipython",
    "version": 3
   },
   "file_extension": ".py",
   "mimetype": "text/x-python",
   "name": "python",
   "nbconvert_exporter": "python",
   "pygments_lexer": "ipython3",
   "version": "3.6.3"
  }
 },
 "nbformat": 4,
 "nbformat_minor": 2
}
