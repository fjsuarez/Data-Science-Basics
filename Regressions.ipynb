{
 "cells": [
  {
   "cell_type": "markdown",
   "metadata": {},
   "source": [
    "## Simple Linear Regression\n",
    "\n",
    "In this example, a single feature is used to run a linear regression. We will use BMI data extracted from Gapminder to estimate life expectancy."
   ]
  },
  {
   "cell_type": "code",
   "execution_count": 1,
   "metadata": {},
   "outputs": [
    {
     "name": "stdout",
     "output_type": "stream",
     "text": [
      "[[ 60.31564716]]\n"
     ]
    }
   ],
   "source": [
    "# TODO: Add import statements\n",
    "import pandas as pd\n",
    "from sklearn.linear_model import LinearRegression\n",
    "\n",
    "# Assign the dataframe to this variable.\n",
    "# TODO: Load the data\n",
    "bmi_life_data = pd.read_csv('bmi_and_life_expectancy.csv')\n",
    "\n",
    "# Make and fit the linear regression model\n",
    "#TODO: Fit the model and Assign it to bmi_life_model\n",
    "bmi_life_model = LinearRegression()\n",
    "bmi_life_model.fit(bmi_life_data[['BMI']], bmi_life_data[['Life expectancy']])\n",
    "\n",
    "# Make a prediction using the model\n",
    "# TODO: Predict life expectancy for a BMI value of 21.07931\n",
    "laos_life_exp = bmi_life_model.predict(21.07931)\n",
    "\n",
    "print(laos_life_exp)"
   ]
  },
  {
   "cell_type": "markdown",
   "metadata": {},
   "source": [
    "## Multiple Linear Regression"
   ]
  },
  {
   "cell_type": "markdown",
   "metadata": {},
   "source": [
    "Now we will use a sample dataset from scikit-learn with Boston house prices data. The 'x' variable contains 13 different features that will be used to estimate prices."
   ]
  },
  {
   "cell_type": "code",
   "execution_count": 11,
   "metadata": {},
   "outputs": [
    {
     "name": "stdout",
     "output_type": "stream",
     "text": [
      "[ 23.68420569]\n"
     ]
    }
   ],
   "source": [
    "from sklearn.linear_model import LinearRegression\n",
    "from sklearn.datasets import load_boston\n",
    "\n",
    "# Load the data from the boston house-prices dataset \n",
    "boston_data = load_boston()\n",
    "x = boston_data['data']\n",
    "y = boston_data['target']\n",
    "\n",
    "# Make and fit the linear regression model\n",
    "# TODO: Fit the model and assign it to the model variable\n",
    "model = LinearRegression()\n",
    "model.fit(x, y)\n",
    "\n",
    "# Make a prediction using the model\n",
    "sample_house = [[2.29690000e-01, 0.00000000e+00, 1.05900000e+01, 0.00000000e+00, 4.89000000e-01,\n",
    "                6.32600000e+00, 5.25000000e+01, 4.35490000e+00, 4.00000000e+00, 2.77000000e+02,\n",
    "                1.86000000e+01, 3.94870000e+02, 1.09700000e+01]]\n",
    "# TODO: Predict housing price for the sample_house\n",
    "prediction = model.predict(sample_house)\n",
    "\n",
    "print(prediction)"
   ]
  },
  {
   "cell_type": "markdown",
   "metadata": {},
   "source": [
    "## Polynomial Regression"
   ]
  },
  {
   "cell_type": "code",
   "execution_count": 119,
   "metadata": {},
   "outputs": [
    {
     "data": {
      "text/plain": [
       "<matplotlib.legend.Legend at 0x21bc76a4390>"
      ]
     },
     "execution_count": 119,
     "metadata": {},
     "output_type": "execute_result"
    },
    {
     "data": {
      "image/png": "[encoded data removed]",
      "text/plain": [
       "<matplotlib.figure.Figure at 0x21bc5a2b048>"
      ]
     },
     "metadata": {},
     "output_type": "display_data"
    }
   ],
   "source": [
    "import numpy as np\n",
    "import matplotlib.pyplot as plt\n",
    "from sklearn import linear_model, cross_validation\n",
    "from sklearn.preprocessing import PolynomialFeatures\n",
    "from sklearn.pipeline import make_pipeline\n",
    "\n",
    "def f(x):\n",
    "    return np.sin(2 * np.pi * x)\n",
    "\n",
    "x = np.random.uniform(0, 1, size=100)[:, np.newaxis]\n",
    "y = f(x) + np.random.normal(scale=0.3, size=100)[:, np.newaxis]\n",
    "\n",
    "x_train, x_test, y_train, y_test = cross_validation.train_test_split(x, y, test_size=0.5, random_state=0)\n",
    "\n",
    "\n",
    "poly_model = make_pipeline(PolynomialFeatures(degree=3), linear_model.LinearRegression())\n",
    "poly_model.fit(x_train, y_train)\n",
    "\n",
    "\n",
    "linear_model_1 = linear_model.LinearRegression()\n",
    "linear_model_1.fit(x_train, y_train)\n",
    "\n",
    "fig = plt.figure()\n",
    "ax = plt.axes()\n",
    "x_test.sort(axis=0)\n",
    "ax.set(xlabel='X', ylabel='Y', title='X vs Y')\n",
    "ax.scatter(x,y, alpha=0.5, cmap='viridis')\n",
    "ax.plot(x_test, linear_model_1.predict(x_test), color='green', label='linear')\n",
    "ax.plot(x_test, poly_model.predict(x_test), color='red', label='poly')\n",
    "\n",
    "ax.legend()"
   ]
  },
  {
   "cell_type": "code",
   "execution_count": 8,
   "metadata": {},
   "outputs": [
    {
     "name": "stdout",
     "output_type": "stream",
     "text": [
      "(20, 1)\n",
      "[[  1.00000000e+00  -3.35320000e-01   1.12439502e-01  -3.77032139e-02\n",
      "    1.26426417e-02]\n",
      " [  1.00000000e+00   2.16000000e-02   4.66560000e-04   1.00776960e-05\n",
      "    2.17678234e-07]\n",
      " [  1.00000000e+00  -1.19438000e+00   1.42654358e+00  -1.70383513e+00\n",
      "    2.03502660e+00]\n",
      " [  1.00000000e+00  -6.50460000e-01   4.23098212e-01  -2.75208463e-01\n",
      "    1.79012097e-01]\n",
      " [  1.00000000e+00  -2.80010000e-01   7.84056001e-02  -2.19543521e-02\n",
      "    6.14743813e-03]\n",
      " [  1.00000000e+00   1.93258000e+00   3.73486546e+00   7.21792628e+00\n",
      "    1.39492200e+01]\n",
      " [  1.00000000e+00   1.22620000e+00   1.50356644e+00   1.84367317e+00\n",
      "    2.26071204e+00]\n",
      " [  1.00000000e+00   7.47270000e-01   5.58412453e-01   4.17284874e-01\n",
      "    3.11824468e-01]\n",
      " [  1.00000000e+00   3.32853000e+00   1.10791120e+01   3.68771565e+01\n",
      "    1.22746722e+02]\n",
      " [  1.00000000e+00   2.87457000e+00   8.26315268e+00   2.37530108e+01\n",
      "    6.82796923e+01]\n",
      " [  1.00000000e+00  -1.48662000e+00   2.21003902e+00  -3.28548821e+00\n",
      "    4.88427249e+00]\n",
      " [  1.00000000e+00   3.76290000e-01   1.41594164e-01   5.32804680e-02\n",
      "    2.00489073e-02]\n",
      " [  1.00000000e+00   1.43918000e+00   2.07123907e+00   2.98088585e+00\n",
      "    4.29003130e+00]\n",
      " [  1.00000000e+00   2.41830000e-01   5.84817489e-02   1.41426413e-02\n",
      "    3.42011495e-03]\n",
      " [  1.00000000e+00  -2.79140000e+00   7.79191396e+00  -2.17503486e+01\n",
      "    6.07139232e+01]\n",
      " [  1.00000000e+00   1.08176000e+00   1.17020470e+00   1.26588063e+00\n",
      "    1.36937903e+00]\n",
      " [  1.00000000e+00   2.81555000e+00   7.92732180e+00   2.23197709e+01\n",
      "    6.28424310e+01]\n",
      " [  1.00000000e+00   5.49240000e-01   3.01664578e-01   1.65686253e-01\n",
      "    9.10015174e-02]\n",
      " [  1.00000000e+00   2.36449000e+00   5.59081296e+00   1.32194213e+01\n",
      "    3.12571896e+01]\n",
      " [  1.00000000e+00  -1.01925000e+00   1.03887056e+00  -1.05886882e+00\n",
      "    1.07925205e+00]]\n",
      "(20,)\n"
     ]
    },
    {
     "data": {
      "text/plain": [
       "<matplotlib.collections.PathCollection at 0x2c3699cd630>"
      ]
     },
     "execution_count": 8,
     "metadata": {},
     "output_type": "execute_result"
    },
    {
     "data": {
      "image/png": "[encoded data removed]",
      "text/plain": [
       "<matplotlib.figure.Figure at 0x2c3698fc470>"
      ]
     },
     "metadata": {},
     "output_type": "display_data"
    }
   ],
   "source": [
    "# TODO: Add import statements\n",
    "import pandas as pd\n",
    "import numpy as np\n",
    "import matplotlib.pyplot as plt\n",
    "from sklearn.preprocessing import PolynomialFeatures\n",
    "from sklearn.linear_model import LinearRegression\n",
    "from sklearn.pipeline import make_pipeline\n",
    "\n",
    "%matplotlib inline\n",
    "\n",
    "# Assign the data to predictor and outcome variables\n",
    "# TODO: Load the data\n",
    "train_data = pd.read_csv('data_polynomial.csv')\n",
    "X = train_data['Var_X'].values.reshape(-1,1)\n",
    "y = train_data['Var_Y'].values\n",
    "\n",
    "# Create polynomial features\n",
    "# TODO: Create a PolynomialFeatures object, then fit and transform the\n",
    "# predictor feature\n",
    "poly_feat = PolynomialFeatures(degree = 4)\n",
    "X_poly = poly_feat.fit_transform(X)\n",
    "\n",
    "# Make and fit the polynomial regression model\n",
    "# TODO: Create a LinearRegression object and fit it to the polynomial predictor\n",
    "# features\n",
    "\n",
    "poly_model = LinearRegression(fit_intercept = False).fit(X_poly, y)\n",
    "\n",
    "# poly_model requires a matrix of n columns, where n is the number of polynomial features\n",
    "\n",
    "# http://scikit-learn.org/stable/auto_examples/linear_model/plot_polynomial_interpolation.html#sphx-glr-auto-examples-linear-model-plot-polynomial-interpolation-py\n",
    "\n",
    "#poly_model = make_pipeline(PolynomialFeatures(degree=4), LinearRegression())\n",
    "#poly_model.fit(X, y)\n",
    "\n",
    "print(X.shape)\n",
    "print(X_poly)\n",
    "print(poly_model.predict(X_poly).shape)\n",
    "\n",
    "X.sort(axis=0)\n",
    "plt.figure()\n",
    "#plt.plot(poly_model.predict(X_poly).reshape(-1,1))\n",
    "plt.scatter(X, y)\n",
    "\n",
    "# Once you've completed all of the steps, select Test Run to see your model\n",
    "# predictions against the data, or select Submit Answer to check if the degree\n",
    "# of the polynomial features is the same as ours!"
   ]
  }
 ],
 "metadata": {
  "kernelspec": {
   "display_name": "Python 3",
   "language": "python",
   "name": "python3"
  },
  "language_info": {
   "codemirror_mode": {
    "name": "ipython",
    "version": 3
   },
   "file_extension": ".py",
   "mimetype": "text/x-python",
   "name": "python",
   "nbconvert_exporter": "python",
   "pygments_lexer": "ipython3",
   "version": "3.6.1"
  }
 },
 "nbformat": 4,
 "nbformat_minor": 2
}
